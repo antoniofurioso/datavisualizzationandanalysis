{
 "cells": [
  {
   "cell_type": "markdown",
   "metadata": {},
   "source": [
    "# Progetto 2 - Antonio Furioso"
   ]
  },
  {
   "cell_type": "markdown",
   "metadata": {},
   "source": [
    "C'è una correlazione tra le vittime uccise dalla polizia e il problema di razzismo negli USA?\n",
    "\n",
    "In questa analisi che faremo andremo a vedere se esiste una correlazione, prendendo in considerazione alcuni dataset come quello creato dal Washington Post, da Gennaio 2015. Questo database è nato dopo l'omicidio di Micheal Brown a Ferguson che ha dato origine al movimento Black Lives Matters. Il database principale, compilato dal Post, segna tutte le vittimite da armi da fuoco da parte della polizia americana."
   ]
  },
  {
   "cell_type": "code",
   "execution_count": 2,
   "metadata": {},
   "outputs": [],
   "source": [
    "#importo tutte le librerie che mi serviranno per visualizzare e manipolare i dati \n",
    "\n",
    "import pandas as pd\n",
    "import matplotlib.pyplot as plt\n",
    "import seaborn as sns\n",
    "import numpy as np"
   ]
  },
  {
   "cell_type": "markdown",
   "metadata": {},
   "source": [
    "Ecco qui il dataset principale:"
   ]
  },
  {
   "cell_type": "code",
   "execution_count": 3,
   "metadata": {
    "scrolled": true
   },
   "outputs": [
    {
     "data": {
      "text/html": [
       "<div>\n",
       "<style scoped>\n",
       "    .dataframe tbody tr th:only-of-type {\n",
       "        vertical-align: middle;\n",
       "    }\n",
       "\n",
       "    .dataframe tbody tr th {\n",
       "        vertical-align: top;\n",
       "    }\n",
       "\n",
       "    .dataframe thead th {\n",
       "        text-align: right;\n",
       "    }\n",
       "</style>\n",
       "<table border=\"1\" class=\"dataframe\">\n",
       "  <thead>\n",
       "    <tr style=\"text-align: right;\">\n",
       "      <th></th>\n",
       "      <th>id</th>\n",
       "      <th>name</th>\n",
       "      <th>manner_of_death</th>\n",
       "      <th>armed</th>\n",
       "      <th>age</th>\n",
       "      <th>gender</th>\n",
       "      <th>race</th>\n",
       "      <th>city</th>\n",
       "      <th>state</th>\n",
       "      <th>signs_of_mental_illness</th>\n",
       "      <th>threat_level</th>\n",
       "      <th>flee</th>\n",
       "      <th>body_camera</th>\n",
       "      <th>longitude</th>\n",
       "      <th>latitude</th>\n",
       "      <th>is_geocoding_exact</th>\n",
       "    </tr>\n",
       "    <tr>\n",
       "      <th>date</th>\n",
       "      <th></th>\n",
       "      <th></th>\n",
       "      <th></th>\n",
       "      <th></th>\n",
       "      <th></th>\n",
       "      <th></th>\n",
       "      <th></th>\n",
       "      <th></th>\n",
       "      <th></th>\n",
       "      <th></th>\n",
       "      <th></th>\n",
       "      <th></th>\n",
       "      <th></th>\n",
       "      <th></th>\n",
       "      <th></th>\n",
       "      <th></th>\n",
       "    </tr>\n",
       "  </thead>\n",
       "  <tbody>\n",
       "    <tr>\n",
       "      <th>2015-01-02</th>\n",
       "      <td>3</td>\n",
       "      <td>Tim Elliot</td>\n",
       "      <td>shot</td>\n",
       "      <td>gun</td>\n",
       "      <td>53.0</td>\n",
       "      <td>M</td>\n",
       "      <td>A</td>\n",
       "      <td>Shelton</td>\n",
       "      <td>WA</td>\n",
       "      <td>True</td>\n",
       "      <td>attack</td>\n",
       "      <td>Not fleeing</td>\n",
       "      <td>False</td>\n",
       "      <td>-123.122</td>\n",
       "      <td>47.247</td>\n",
       "      <td>True</td>\n",
       "    </tr>\n",
       "    <tr>\n",
       "      <th>2015-01-02</th>\n",
       "      <td>4</td>\n",
       "      <td>Lewis Lee Lembke</td>\n",
       "      <td>shot</td>\n",
       "      <td>gun</td>\n",
       "      <td>47.0</td>\n",
       "      <td>M</td>\n",
       "      <td>W</td>\n",
       "      <td>Aloha</td>\n",
       "      <td>OR</td>\n",
       "      <td>False</td>\n",
       "      <td>attack</td>\n",
       "      <td>Not fleeing</td>\n",
       "      <td>False</td>\n",
       "      <td>-122.892</td>\n",
       "      <td>45.487</td>\n",
       "      <td>True</td>\n",
       "    </tr>\n",
       "    <tr>\n",
       "      <th>2015-01-03</th>\n",
       "      <td>5</td>\n",
       "      <td>John Paul Quintero</td>\n",
       "      <td>shot and Tasered</td>\n",
       "      <td>unarmed</td>\n",
       "      <td>23.0</td>\n",
       "      <td>M</td>\n",
       "      <td>H</td>\n",
       "      <td>Wichita</td>\n",
       "      <td>KS</td>\n",
       "      <td>False</td>\n",
       "      <td>other</td>\n",
       "      <td>Not fleeing</td>\n",
       "      <td>False</td>\n",
       "      <td>-97.281</td>\n",
       "      <td>37.695</td>\n",
       "      <td>True</td>\n",
       "    </tr>\n",
       "    <tr>\n",
       "      <th>2015-01-04</th>\n",
       "      <td>8</td>\n",
       "      <td>Matthew Hoffman</td>\n",
       "      <td>shot</td>\n",
       "      <td>toy weapon</td>\n",
       "      <td>32.0</td>\n",
       "      <td>M</td>\n",
       "      <td>W</td>\n",
       "      <td>San Francisco</td>\n",
       "      <td>CA</td>\n",
       "      <td>True</td>\n",
       "      <td>attack</td>\n",
       "      <td>Not fleeing</td>\n",
       "      <td>False</td>\n",
       "      <td>-122.422</td>\n",
       "      <td>37.763</td>\n",
       "      <td>True</td>\n",
       "    </tr>\n",
       "    <tr>\n",
       "      <th>2015-01-04</th>\n",
       "      <td>9</td>\n",
       "      <td>Michael Rodriguez</td>\n",
       "      <td>shot</td>\n",
       "      <td>nail gun</td>\n",
       "      <td>39.0</td>\n",
       "      <td>M</td>\n",
       "      <td>H</td>\n",
       "      <td>Evans</td>\n",
       "      <td>CO</td>\n",
       "      <td>False</td>\n",
       "      <td>attack</td>\n",
       "      <td>Not fleeing</td>\n",
       "      <td>False</td>\n",
       "      <td>-104.692</td>\n",
       "      <td>40.384</td>\n",
       "      <td>True</td>\n",
       "    </tr>\n",
       "  </tbody>\n",
       "</table>\n",
       "</div>"
      ],
      "text/plain": [
       "            id                name   manner_of_death       armed   age gender  \\\n",
       "date                                                                            \n",
       "2015-01-02   3          Tim Elliot              shot         gun  53.0      M   \n",
       "2015-01-02   4    Lewis Lee Lembke              shot         gun  47.0      M   \n",
       "2015-01-03   5  John Paul Quintero  shot and Tasered     unarmed  23.0      M   \n",
       "2015-01-04   8     Matthew Hoffman              shot  toy weapon  32.0      M   \n",
       "2015-01-04   9   Michael Rodriguez              shot    nail gun  39.0      M   \n",
       "\n",
       "           race           city state  signs_of_mental_illness threat_level  \\\n",
       "date                                                                         \n",
       "2015-01-02    A        Shelton    WA                     True       attack   \n",
       "2015-01-02    W          Aloha    OR                    False       attack   \n",
       "2015-01-03    H        Wichita    KS                    False        other   \n",
       "2015-01-04    W  San Francisco    CA                     True       attack   \n",
       "2015-01-04    H          Evans    CO                    False       attack   \n",
       "\n",
       "                   flee  body_camera  longitude  latitude  is_geocoding_exact  \n",
       "date                                                                           \n",
       "2015-01-02  Not fleeing        False   -123.122    47.247                True  \n",
       "2015-01-02  Not fleeing        False   -122.892    45.487                True  \n",
       "2015-01-03  Not fleeing        False    -97.281    37.695                True  \n",
       "2015-01-04  Not fleeing        False   -122.422    37.763                True  \n",
       "2015-01-04  Not fleeing        False   -104.692    40.384                True  "
      ]
     },
     "execution_count": 3,
     "metadata": {},
     "output_type": "execute_result"
    }
   ],
   "source": [
    "kill = pd.read_csv('fatal-police-shootings-data.csv', parse_dates=True, index_col= 'date') #importo il file csv che mi serve per il progetto\n",
    "kill.head()#visualizzo le prime 5 righe del file"
   ]
  },
  {
   "cell_type": "markdown",
   "metadata": {},
   "source": [
    "Vediamo quante sono state le vittimine per ogni razza"
   ]
  },
  {
   "cell_type": "code",
   "execution_count": 4,
   "metadata": {},
   "outputs": [
    {
     "data": {
      "text/plain": [
       "Text(0.5, 0, 'kills')"
      ]
     },
     "execution_count": 4,
     "metadata": {},
     "output_type": "execute_result"
    },
    {
     "data": {
      "image/png": "[encoded data removed]",
      "text/plain": [
       "<Figure size 432x288 with 1 Axes>"
      ]
     },
     "metadata": {
      "needs_background": "light"
     },
     "output_type": "display_data"
    }
   ],
   "source": [
    "#rinomino i dati della colonna race per chiarezza\n",
    "kill['race'] = kill['race'].replace(['B','A', 'W', 'O', 'H', 'N'], ['Black', 'Asian', 'White', 'Other', 'Hispanic', 'Native America'])\n",
    "sns.countplot(y = 'race', data= kill, order = kill['race'].value_counts().index) #conto il numero di vittime in base alla razza\n",
    "plt.xlabel('kills')"
   ]
  },
  {
   "cell_type": "markdown",
   "metadata": {},
   "source": [
    "Da questo grafico, osservando il numero di vittime per razza, non si vede una forte discriminazione verso la razza nera, in quanto la razza bianca è stata quella più colpita."
   ]
  },
  {
   "cell_type": "markdown",
   "metadata": {},
   "source": [
    " "
   ]
  },
  {
   "cell_type": "markdown",
   "metadata": {},
   "source": [
    "Ora confrontiamo tra le varie razze quanti uomini e donne sono stati uccisi."
   ]
  },
  {
   "cell_type": "code",
   "execution_count": 5,
   "metadata": {},
   "outputs": [
    {
     "data": {
      "text/plain": [
       "(array([0, 1, 2, 3, 4, 5]), <a list of 6 Text xticklabel objects>)"
      ]
     },
     "execution_count": 5,
     "metadata": {},
     "output_type": "execute_result"
    },
    {
     "data": {
      "image/png": "[encoded data removed]",
      "text/plain": [
       "<Figure size 432x288 with 1 Axes>"
      ]
     },
     "metadata": {
      "needs_background": "light"
     },
     "output_type": "display_data"
    }
   ],
   "source": [
    "sns.countplot(x='race', data=kill, hue='gender') #vediamo anche se sono stati uccisi più uomini o più donne in base alla razza di appartenenza\n",
    "plt.xticks(rotation=90) #ruoto i nomi dell'asse X"
   ]
  },
  {
   "cell_type": "markdown",
   "metadata": {},
   "source": [
    "Possiamo vedere che la maggior parte delle vittime sono di sesso maschile. Perché?\n",
    "\n",
    "Non è un problema che la polizia ha contro il genere definito \"più forte\" bensì, secondo delle mie ricerche e questo link https://www.bjs.gov/index.cfm?ty=tp&tid=955 , il sesso maschile è quello più propenso a commettere reati più gravi e più violenti, rispetto alle donne che commettono reati meno gravi, rischiando di meno la loro vita.\n",
    "\n",
    "Quindi secondo questo dato e questa ricerca possiamo escludere un abuso di potere in base al sesso."
   ]
  },
  {
   "cell_type": "markdown",
   "metadata": {},
   "source": [
    " "
   ]
  },
  {
   "cell_type": "markdown",
   "metadata": {},
   "source": [
    "Voglio ora verificare se il numero di vittime è diminuito o aumentato rispetto al 2015 fino al 2019"
   ]
  },
  {
   "cell_type": "code",
   "execution_count": 6,
   "metadata": {},
   "outputs": [
    {
     "data": {
      "image/png": "[encoded data removed]",
      "text/plain": [
       "<Figure size 1080x360 with 1 Axes>"
      ]
     },
     "metadata": {
      "needs_background": "light"
     },
     "output_type": "display_data"
    }
   ],
   "source": [
    "df_kill = kill.groupby('date')['state'].count() #per avere il numero di vittime conto il numero dello stato in base alla data\n",
    "kill_year = df_kill.resample('Y').sum() #per sapere il numero di vittime annuali sommo i numeri ottenuti\n",
    "plt.figure(figsize=(15,5))\n",
    "plt.plot(kill_year[:'2019'], marker='o',label='Number of kill at the end of the year')\n",
    "plt.ylabel('Number of kills')\n",
    "plt.xlabel('Year')\n",
    "plt.legend()\n",
    "plt.show()"
   ]
  },
  {
   "cell_type": "markdown",
   "metadata": {},
   "source": [
    "Il numero di vittime è rimasto più o meno costante da quando è stato aperto il dataset fino alla data considerata. Questo mi porta a pensare che il tasso di criminalità in America, in questi anni non è sceso, ma è rimasto sempre lo stesso e che quindi non ci sia un problema di razzismo così evidente nelle forze dell'ordine, soprattutto nei confronti della razza nera."
   ]
  },
  {
   "cell_type": "markdown",
   "metadata": {},
   "source": [
    " "
   ]
  },
  {
   "cell_type": "markdown",
   "metadata": {},
   "source": [
    "Di quale arma erano in possesso le vittime?"
   ]
  },
  {
   "cell_type": "code",
   "execution_count": 7,
   "metadata": {},
   "outputs": [
    {
     "data": {
      "text/plain": [
       "Text(0.5, 1.0, 'Armi')"
      ]
     },
     "execution_count": 7,
     "metadata": {},
     "output_type": "execute_result"
    },
    {
     "data": {
      "image/png": "[encoded data removed]",
      "text/plain": [
       "<Figure size 648x432 with 1 Axes>"
      ]
     },
     "metadata": {
      "needs_background": "light"
     },
     "output_type": "display_data"
    }
   ],
   "source": [
    "armed = kill.armed.value_counts()\n",
    "\n",
    "plt.figure(figsize=(9,6))\n",
    "sns.barplot(x=armed[:7].index,y=armed[:7].values)\n",
    "plt.ylabel('Number of victims w/ arms')\n",
    "plt.xlabel('Tipo di arma')\n",
    "plt.title('Armi',color = 'blue',fontsize=15)"
   ]
  },
  {
   "cell_type": "markdown",
   "metadata": {},
   "source": [
    "Perché la polizia ha sparato? La vittima era armata?"
   ]
  },
  {
   "cell_type": "code",
   "execution_count": 8,
   "metadata": {},
   "outputs": [
    {
     "data": {
      "text/plain": [
       "Text(0, 0.5, 'number of victim')"
      ]
     },
     "execution_count": 8,
     "metadata": {},
     "output_type": "execute_result"
    },
    {
     "data": {
      "image/png": "[encoded data removed]",
      "text/plain": [
       "<Figure size 432x288 with 1 Axes>"
      ]
     },
     "metadata": {
      "needs_background": "light"
     },
     "output_type": "display_data"
    }
   ],
   "source": [
    "sns.countplot(x='armed', data=kill, hue='manner_of_death', order = kill['armed'].value_counts().index[:7])\n",
    "plt.xticks(rotation=90) #ruoto i nomi dell'asse X\n",
    "plt.xlabel('type of weapon')\n",
    "plt.ylabel('number of victim')"
   ]
  },
  {
   "cell_type": "markdown",
   "metadata": {},
   "source": [
    "Il grafico ci mostra perché la polizia ha sparato e usato il teaser. \n",
    "Il teaser è stato usato relativamente poco rispetto alla pistola, anche quando la vittima non era in possesso di un'arma pericola o arma da distanza. Questo comportamento può significare, a seconda dei casi, che la polizia in quel momento era davvero prevenuta sulla vittima, per questo non ha esitato a spararla e a ucciderla!"
   ]
  },
  {
   "cell_type": "markdown",
   "metadata": {},
   "source": [
    "Qual'era l'età media delle vittime in base allo stato?"
   ]
  },
  {
   "cell_type": "code",
   "execution_count": 9,
   "metadata": {},
   "outputs": [
    {
     "data": {
      "text/plain": [
       "Text(0.5, 1.0, 'Average age for each state')"
      ]
     },
     "execution_count": 9,
     "metadata": {},
     "output_type": "execute_result"
    },
    {
     "data": {
      "image/png": "[encoded data removed]",
      "text/plain": [
       "<Figure size 1080x576 with 1 Axes>"
      ]
     },
     "metadata": {
      "needs_background": "light"
     },
     "output_type": "display_data"
    }
   ],
   "source": [
    "plt.figure(figsize=(15,8))\n",
    "agevictim = kill.groupby('state')['age'].mean()#faccio la media dell'età raggruppata per stato\n",
    "sns.barplot(x=agevictim.index,y=agevictim.values, order=agevictim.sort_values().index)\n",
    "plt.ylabel('Età media')\n",
    "plt.title('Average age for each state')"
   ]
  },
  {
   "cell_type": "markdown",
   "metadata": {},
   "source": [
    "L'età media mostra può mostrare un altro bias della polizia. La maggior parte delle vittime hanno più o meno 35 anni. \n",
    "\n",
    "Può essere che la polizia sia effettivamente prevenuta e ci siano dei bias anche in base all'età della vittima. Verifichiamolo nel grafico seguente comparando l'età a segni di insanità mentale e al livello di minaccia."
   ]
  },
  {
   "cell_type": "code",
   "execution_count": 10,
   "metadata": {},
   "outputs": [
    {
     "data": {
      "text/plain": [
       "Text(0.5, 1.0, 'Mental state and attack on the police')"
      ]
     },
     "execution_count": 10,
     "metadata": {},
     "output_type": "execute_result"
    },
    {
     "data": {
      "image/png": "[encoded data removed]",
      "text/plain": [
       "<Figure size 432x432 with 1 Axes>"
      ]
     },
     "metadata": {
      "needs_background": "light"
     },
     "output_type": "display_data"
    }
   ],
   "source": [
    "plt.figure(figsize=(6,6))\n",
    "sns.barplot(x= 'age', y= 'threat_level',data= kill, hue='signs_of_mental_illness')\n",
    "plt.title('Mental state and attack on the police')"
   ]
  },
  {
   "cell_type": "markdown",
   "metadata": {},
   "source": [
    "A quanto pare c'è effettivamente un bias!\n",
    "\n",
    "La polizia parte prevenuta su tutti i casi di criminalità. Questo lo possiamo verificare in quanto la maggior parte delle persone che commette un reato è malata mentalmente, e per questo vengono coinvolti nel bias anche criminali che non lo sono ma con il quale si poteva \"ragionare\" prima di arrivare a una morte.\n",
    "\n",
    "Il razzismo gioca qui anche un ruolo fondamentale, perché come possiamo vedere dal livello di minaccia, non ci sono stati tanti casi di attacco diretto. Può essere anche che per la più piccola offesa connessa con il razzismo da parte delle forze dell'ordine, abbia fatto partire il colpo di pistola."
   ]
  },
  {
   "cell_type": "markdown",
   "metadata": {},
   "source": [
    "Per concludere e verificare se la polizia ha attaccato in segno di razzismo o meno, andiamo a vedere se quando le vittime hanno attaccato, la polizia aveva una camera attaccata al proprio corpo.\n",
    "\n",
    "- Un'ipotesi potrebbe essere che magari la polizia che non aveva la camera addosso, abbia volutamente ucciso la vittima e si sia giustificata dal fatto che la stava attaccando."
   ]
  },
  {
   "cell_type": "code",
   "execution_count": 11,
   "metadata": {},
   "outputs": [
    {
     "data": {
      "text/plain": [
       "Text(0.5, 1.0, 'Number of deaths with the body camera')"
      ]
     },
     "execution_count": 11,
     "metadata": {},
     "output_type": "execute_result"
    },
    {
     "data": {
      "image/png": "[encoded data removed]",
      "text/plain": [
       "<Figure size 432x288 with 1 Axes>"
      ]
     },
     "metadata": {
      "needs_background": "light"
     },
     "output_type": "display_data"
    }
   ],
   "source": [
    "sns.countplot(x='threat_level', data=kill, hue='body_camera')\n",
    "plt.ylabel('Number of victims & police w/ camera')\n",
    "plt.title ('Number of deaths with the body camera')"
   ]
  },
  {
   "cell_type": "markdown",
   "metadata": {},
   "source": [
    "La maggior parte delle vittime è stata uccisa senza che neanche i superiori dell'agente in servizio potessero confermare la vera versione dell'accaduto.\n",
    "Questo grafico può confermare un problema di razzismo da parte delle forze dell'ordine. L'agente in servizio è più predisposto a esporre la sua forma di razzismo quando non indossa la telecamera, questo gli permette di non essere accusato di abuso di potere e soprattutto di omicidio aggravato."
   ]
  },
  {
   "cell_type": "markdown",
   "metadata": {},
   "source": [
    " "
   ]
  },
  {
   "cell_type": "markdown",
   "metadata": {},
   "source": [
    "## Ulteriori bias di povertà e livello scolastico?"
   ]
  },
  {
   "cell_type": "markdown",
   "metadata": {},
   "source": [
    "Adesso andiamo ad analizzare altri due dataset, quello tra il tasso di povertà e il livello scolastico delle persone per vedere se ci sono dei bias."
   ]
  },
  {
   "cell_type": "code",
   "execution_count": 16,
   "metadata": {},
   "outputs": [
    {
     "data": {
      "text/html": [
       "<div>\n",
       "<style scoped>\n",
       "    .dataframe tbody tr th:only-of-type {\n",
       "        vertical-align: middle;\n",
       "    }\n",
       "\n",
       "    .dataframe tbody tr th {\n",
       "        vertical-align: top;\n",
       "    }\n",
       "\n",
       "    .dataframe thead th {\n",
       "        text-align: right;\n",
       "    }\n",
       "</style>\n",
       "<table border=\"1\" class=\"dataframe\">\n",
       "  <thead>\n",
       "    <tr style=\"text-align: right;\">\n",
       "      <th></th>\n",
       "      <th>SUMLEV</th>\n",
       "      <th>STATE</th>\n",
       "      <th>COUNTY</th>\n",
       "      <th>PLACE</th>\n",
       "      <th>COUSUB</th>\n",
       "      <th>CONCIT</th>\n",
       "      <th>PRIMGEO_FLAG</th>\n",
       "      <th>FUNCSTAT</th>\n",
       "      <th>NAME</th>\n",
       "      <th>STNAME</th>\n",
       "      <th>...</th>\n",
       "      <th>POPESTIMATE2010</th>\n",
       "      <th>POPESTIMATE2011</th>\n",
       "      <th>POPESTIMATE2012</th>\n",
       "      <th>POPESTIMATE2013</th>\n",
       "      <th>POPESTIMATE2014</th>\n",
       "      <th>POPESTIMATE2015</th>\n",
       "      <th>POPESTIMATE2016</th>\n",
       "      <th>POPESTIMATE2017</th>\n",
       "      <th>POPESTIMATE2018</th>\n",
       "      <th>POPESTIMATE2019</th>\n",
       "    </tr>\n",
       "  </thead>\n",
       "  <tbody>\n",
       "    <tr>\n",
       "      <th>0</th>\n",
       "      <td>40</td>\n",
       "      <td>1</td>\n",
       "      <td>0</td>\n",
       "      <td>0</td>\n",
       "      <td>0</td>\n",
       "      <td>0</td>\n",
       "      <td>0</td>\n",
       "      <td>A</td>\n",
       "      <td>Alabama</td>\n",
       "      <td>Alabama</td>\n",
       "      <td>...</td>\n",
       "      <td>4785437</td>\n",
       "      <td>4799069</td>\n",
       "      <td>4815588</td>\n",
       "      <td>4830081</td>\n",
       "      <td>4841799</td>\n",
       "      <td>4852347</td>\n",
       "      <td>4863525</td>\n",
       "      <td>4874486</td>\n",
       "      <td>4887681</td>\n",
       "      <td>4903185</td>\n",
       "    </tr>\n",
       "    <tr>\n",
       "      <th>1</th>\n",
       "      <td>162</td>\n",
       "      <td>1</td>\n",
       "      <td>0</td>\n",
       "      <td>124</td>\n",
       "      <td>0</td>\n",
       "      <td>0</td>\n",
       "      <td>0</td>\n",
       "      <td>A</td>\n",
       "      <td>Abbeville city</td>\n",
       "      <td>Alabama</td>\n",
       "      <td>...</td>\n",
       "      <td>2699</td>\n",
       "      <td>2694</td>\n",
       "      <td>2643</td>\n",
       "      <td>2628</td>\n",
       "      <td>2608</td>\n",
       "      <td>2600</td>\n",
       "      <td>2584</td>\n",
       "      <td>2575</td>\n",
       "      <td>2571</td>\n",
       "      <td>2560</td>\n",
       "    </tr>\n",
       "    <tr>\n",
       "      <th>2</th>\n",
       "      <td>162</td>\n",
       "      <td>1</td>\n",
       "      <td>0</td>\n",
       "      <td>460</td>\n",
       "      <td>0</td>\n",
       "      <td>0</td>\n",
       "      <td>0</td>\n",
       "      <td>A</td>\n",
       "      <td>Adamsville city</td>\n",
       "      <td>Alabama</td>\n",
       "      <td>...</td>\n",
       "      <td>4500</td>\n",
       "      <td>4493</td>\n",
       "      <td>4471</td>\n",
       "      <td>4449</td>\n",
       "      <td>4420</td>\n",
       "      <td>4390</td>\n",
       "      <td>4356</td>\n",
       "      <td>4327</td>\n",
       "      <td>4308</td>\n",
       "      <td>4281</td>\n",
       "    </tr>\n",
       "    <tr>\n",
       "      <th>3</th>\n",
       "      <td>162</td>\n",
       "      <td>1</td>\n",
       "      <td>0</td>\n",
       "      <td>484</td>\n",
       "      <td>0</td>\n",
       "      <td>0</td>\n",
       "      <td>0</td>\n",
       "      <td>A</td>\n",
       "      <td>Addison town</td>\n",
       "      <td>Alabama</td>\n",
       "      <td>...</td>\n",
       "      <td>751</td>\n",
       "      <td>750</td>\n",
       "      <td>743</td>\n",
       "      <td>742</td>\n",
       "      <td>739</td>\n",
       "      <td>734</td>\n",
       "      <td>731</td>\n",
       "      <td>726</td>\n",
       "      <td>723</td>\n",
       "      <td>718</td>\n",
       "    </tr>\n",
       "    <tr>\n",
       "      <th>4</th>\n",
       "      <td>162</td>\n",
       "      <td>1</td>\n",
       "      <td>0</td>\n",
       "      <td>676</td>\n",
       "      <td>0</td>\n",
       "      <td>0</td>\n",
       "      <td>0</td>\n",
       "      <td>A</td>\n",
       "      <td>Akron town</td>\n",
       "      <td>Alabama</td>\n",
       "      <td>...</td>\n",
       "      <td>355</td>\n",
       "      <td>347</td>\n",
       "      <td>347</td>\n",
       "      <td>343</td>\n",
       "      <td>338</td>\n",
       "      <td>339</td>\n",
       "      <td>333</td>\n",
       "      <td>332</td>\n",
       "      <td>331</td>\n",
       "      <td>328</td>\n",
       "    </tr>\n",
       "  </tbody>\n",
       "</table>\n",
       "<p>5 rows × 22 columns</p>\n",
       "</div>"
      ],
      "text/plain": [
       "   SUMLEV  STATE  COUNTY  PLACE  COUSUB  CONCIT  PRIMGEO_FLAG FUNCSTAT  \\\n",
       "0      40      1       0      0       0       0             0        A   \n",
       "1     162      1       0    124       0       0             0        A   \n",
       "2     162      1       0    460       0       0             0        A   \n",
       "3     162      1       0    484       0       0             0        A   \n",
       "4     162      1       0    676       0       0             0        A   \n",
       "\n",
       "              NAME   STNAME  ... POPESTIMATE2010  POPESTIMATE2011  \\\n",
       "0          Alabama  Alabama  ...         4785437          4799069   \n",
       "1   Abbeville city  Alabama  ...            2699             2694   \n",
       "2  Adamsville city  Alabama  ...            4500             4493   \n",
       "3     Addison town  Alabama  ...             751              750   \n",
       "4       Akron town  Alabama  ...             355              347   \n",
       "\n",
       "   POPESTIMATE2012  POPESTIMATE2013  POPESTIMATE2014  POPESTIMATE2015  \\\n",
       "0          4815588          4830081          4841799          4852347   \n",
       "1             2643             2628             2608             2600   \n",
       "2             4471             4449             4420             4390   \n",
       "3              743              742              739              734   \n",
       "4              347              343              338              339   \n",
       "\n",
       "   POPESTIMATE2016  POPESTIMATE2017  POPESTIMATE2018  POPESTIMATE2019  \n",
       "0          4863525          4874486          4887681          4903185  \n",
       "1             2584             2575             2571             2560  \n",
       "2             4356             4327             4308             4281  \n",
       "3              731              726              723              718  \n",
       "4              333              332              331              328  \n",
       "\n",
       "[5 rows x 22 columns]"
      ]
     },
     "execution_count": 16,
     "metadata": {},
     "output_type": "execute_result"
    }
   ],
   "source": [
    "#importo i dataset relativi al livello di persone superiori ai 25 anni che hanno completato la scuola, il tasso di povertà e la stima delle popolazioni\n",
    "school= pd.read_csv('PercentOver25CompletedHighSchool.csv', encoding= 'unicode_escape')\n",
    "poverty = pd.read_csv('datasets_2647_4395_PercentagePeopleBelowPovertyLevel.csv', encoding= 'unicode_escape')\n",
    "tot_people = pd.read_csv('sub-est2019_all.csv', encoding= 'unicode_escape')\n",
    "tot_people.head()"
   ]
  },
  {
   "cell_type": "markdown",
   "metadata": {},
   "source": [
    "Prendiamo in considerazione il numero di abitanti delle città degli States così da poter fare una media più corretta di ogni stato."
   ]
  },
  {
   "cell_type": "code",
   "execution_count": 45,
   "metadata": {},
   "outputs": [
    {
     "data": {
      "text/html": [
       "<div>\n",
       "<style scoped>\n",
       "    .dataframe tbody tr th:only-of-type {\n",
       "        vertical-align: middle;\n",
       "    }\n",
       "\n",
       "    .dataframe tbody tr th {\n",
       "        vertical-align: top;\n",
       "    }\n",
       "\n",
       "    .dataframe thead th {\n",
       "        text-align: right;\n",
       "    }\n",
       "</style>\n",
       "<table border=\"1\" class=\"dataframe\">\n",
       "  <thead>\n",
       "    <tr style=\"text-align: right;\">\n",
       "      <th></th>\n",
       "      <th>City</th>\n",
       "      <th>People_city</th>\n",
       "    </tr>\n",
       "  </thead>\n",
       "  <tbody>\n",
       "    <tr>\n",
       "      <th>0</th>\n",
       "      <td>Alabama</td>\n",
       "      <td>4903185</td>\n",
       "    </tr>\n",
       "    <tr>\n",
       "      <th>1</th>\n",
       "      <td>Abbeville city</td>\n",
       "      <td>2560</td>\n",
       "    </tr>\n",
       "    <tr>\n",
       "      <th>2</th>\n",
       "      <td>Adamsville city</td>\n",
       "      <td>4281</td>\n",
       "    </tr>\n",
       "    <tr>\n",
       "      <th>3</th>\n",
       "      <td>Addison town</td>\n",
       "      <td>718</td>\n",
       "    </tr>\n",
       "    <tr>\n",
       "      <th>4</th>\n",
       "      <td>Akron town</td>\n",
       "      <td>328</td>\n",
       "    </tr>\n",
       "  </tbody>\n",
       "</table>\n",
       "</div>"
      ],
      "text/plain": [
       "              City  People_city\n",
       "0          Alabama      4903185\n",
       "1   Abbeville city         2560\n",
       "2  Adamsville city         4281\n",
       "3     Addison town          718\n",
       "4       Akron town          328"
      ]
     },
     "execution_count": 45,
     "metadata": {},
     "output_type": "execute_result"
    }
   ],
   "source": [
    "peoplepercity = tot_people[['NAME','POPESTIMATE2019' ]] #estrapolo solo le colonne che mi servono e creo un nuovo dataset\n",
    "peoplepercity2=peoplepercity.rename(columns={'NAME':'City', 'POPESTIMATE2019': 'People_city'}) #rinomino le colonne\n",
    "peoplepercity2.head()"
   ]
  },
  {
   "cell_type": "code",
   "execution_count": 44,
   "metadata": {},
   "outputs": [
    {
     "data": {
      "text/html": [
       "<div>\n",
       "<style scoped>\n",
       "    .dataframe tbody tr th:only-of-type {\n",
       "        vertical-align: middle;\n",
       "    }\n",
       "\n",
       "    .dataframe tbody tr th {\n",
       "        vertical-align: top;\n",
       "    }\n",
       "\n",
       "    .dataframe thead th {\n",
       "        text-align: right;\n",
       "    }\n",
       "</style>\n",
       "<table border=\"1\" class=\"dataframe\">\n",
       "  <thead>\n",
       "    <tr style=\"text-align: right;\">\n",
       "      <th></th>\n",
       "      <th>Geographic Area</th>\n",
       "      <th>City</th>\n",
       "      <th>poverty_rate</th>\n",
       "    </tr>\n",
       "  </thead>\n",
       "  <tbody>\n",
       "    <tr>\n",
       "      <th>0</th>\n",
       "      <td>AL</td>\n",
       "      <td>Abanda CDP</td>\n",
       "      <td>78.8</td>\n",
       "    </tr>\n",
       "    <tr>\n",
       "      <th>1</th>\n",
       "      <td>AL</td>\n",
       "      <td>Abbeville city</td>\n",
       "      <td>29.1</td>\n",
       "    </tr>\n",
       "    <tr>\n",
       "      <th>2</th>\n",
       "      <td>AL</td>\n",
       "      <td>Adamsville city</td>\n",
       "      <td>25.5</td>\n",
       "    </tr>\n",
       "    <tr>\n",
       "      <th>3</th>\n",
       "      <td>AL</td>\n",
       "      <td>Addison town</td>\n",
       "      <td>30.7</td>\n",
       "    </tr>\n",
       "    <tr>\n",
       "      <th>4</th>\n",
       "      <td>AL</td>\n",
       "      <td>Akron town</td>\n",
       "      <td>42</td>\n",
       "    </tr>\n",
       "  </tbody>\n",
       "</table>\n",
       "</div>"
      ],
      "text/plain": [
       "  Geographic Area             City poverty_rate\n",
       "0              AL       Abanda CDP         78.8\n",
       "1              AL   Abbeville city         29.1\n",
       "2              AL  Adamsville city         25.5\n",
       "3              AL     Addison town         30.7\n",
       "4              AL       Akron town           42"
      ]
     },
     "execution_count": 44,
     "metadata": {},
     "output_type": "execute_result"
    }
   ],
   "source": [
    "poverty.head()"
   ]
  },
  {
   "cell_type": "code",
   "execution_count": 46,
   "metadata": {},
   "outputs": [
    {
     "data": {
      "text/html": [
       "<div>\n",
       "<style scoped>\n",
       "    .dataframe tbody tr th:only-of-type {\n",
       "        vertical-align: middle;\n",
       "    }\n",
       "\n",
       "    .dataframe tbody tr th {\n",
       "        vertical-align: top;\n",
       "    }\n",
       "\n",
       "    .dataframe thead th {\n",
       "        text-align: right;\n",
       "    }\n",
       "</style>\n",
       "<table border=\"1\" class=\"dataframe\">\n",
       "  <thead>\n",
       "    <tr style=\"text-align: right;\">\n",
       "      <th></th>\n",
       "      <th>Geographic Area</th>\n",
       "      <th>City</th>\n",
       "      <th>percent_completed_hs</th>\n",
       "    </tr>\n",
       "  </thead>\n",
       "  <tbody>\n",
       "    <tr>\n",
       "      <th>0</th>\n",
       "      <td>AL</td>\n",
       "      <td>Abanda CDP</td>\n",
       "      <td>21.2</td>\n",
       "    </tr>\n",
       "    <tr>\n",
       "      <th>1</th>\n",
       "      <td>AL</td>\n",
       "      <td>Abbeville city</td>\n",
       "      <td>69.1</td>\n",
       "    </tr>\n",
       "    <tr>\n",
       "      <th>2</th>\n",
       "      <td>AL</td>\n",
       "      <td>Adamsville city</td>\n",
       "      <td>78.9</td>\n",
       "    </tr>\n",
       "    <tr>\n",
       "      <th>3</th>\n",
       "      <td>AL</td>\n",
       "      <td>Addison town</td>\n",
       "      <td>81.4</td>\n",
       "    </tr>\n",
       "    <tr>\n",
       "      <th>4</th>\n",
       "      <td>AL</td>\n",
       "      <td>Akron town</td>\n",
       "      <td>68.6</td>\n",
       "    </tr>\n",
       "  </tbody>\n",
       "</table>\n",
       "</div>"
      ],
      "text/plain": [
       "  Geographic Area             City percent_completed_hs\n",
       "0              AL       Abanda CDP                 21.2\n",
       "1              AL   Abbeville city                 69.1\n",
       "2              AL  Adamsville city                 78.9\n",
       "3              AL     Addison town                 81.4\n",
       "4              AL       Akron town                 68.6"
      ]
     },
     "execution_count": 46,
     "metadata": {},
     "output_type": "execute_result"
    }
   ],
   "source": [
    "school.head()"
   ]
  },
  {
   "cell_type": "code",
   "execution_count": 74,
   "metadata": {},
   "outputs": [
    {
     "data": {
      "text/html": [
       "<div>\n",
       "<style scoped>\n",
       "    .dataframe tbody tr th:only-of-type {\n",
       "        vertical-align: middle;\n",
       "    }\n",
       "\n",
       "    .dataframe tbody tr th {\n",
       "        vertical-align: top;\n",
       "    }\n",
       "\n",
       "    .dataframe thead th {\n",
       "        text-align: right;\n",
       "    }\n",
       "</style>\n",
       "<table border=\"1\" class=\"dataframe\">\n",
       "  <thead>\n",
       "    <tr style=\"text-align: right;\">\n",
       "      <th></th>\n",
       "      <th>City</th>\n",
       "      <th>percent_completed_hs</th>\n",
       "      <th>poverty_rate</th>\n",
       "      <th>People_city</th>\n",
       "    </tr>\n",
       "    <tr>\n",
       "      <th>Geographic Area</th>\n",
       "      <th></th>\n",
       "      <th></th>\n",
       "      <th></th>\n",
       "      <th></th>\n",
       "    </tr>\n",
       "  </thead>\n",
       "  <tbody>\n",
       "    <tr>\n",
       "      <th>AL</th>\n",
       "      <td>Abbeville city</td>\n",
       "      <td>69.1</td>\n",
       "      <td>29.1</td>\n",
       "      <td>2560</td>\n",
       "    </tr>\n",
       "    <tr>\n",
       "      <th>AL</th>\n",
       "      <td>Adamsville city</td>\n",
       "      <td>78.9</td>\n",
       "      <td>25.5</td>\n",
       "      <td>4281</td>\n",
       "    </tr>\n",
       "    <tr>\n",
       "      <th>AL</th>\n",
       "      <td>Addison town</td>\n",
       "      <td>81.4</td>\n",
       "      <td>30.7</td>\n",
       "      <td>718</td>\n",
       "    </tr>\n",
       "    <tr>\n",
       "      <th>AL</th>\n",
       "      <td>Akron town</td>\n",
       "      <td>68.6</td>\n",
       "      <td>42.0</td>\n",
       "      <td>328</td>\n",
       "    </tr>\n",
       "    <tr>\n",
       "      <th>AL</th>\n",
       "      <td>Alabaster city</td>\n",
       "      <td>89.3</td>\n",
       "      <td>11.2</td>\n",
       "      <td>33487</td>\n",
       "    </tr>\n",
       "  </tbody>\n",
       "</table>\n",
       "</div>"
      ],
      "text/plain": [
       "                            City  percent_completed_hs  poverty_rate  \\\n",
       "Geographic Area                                                        \n",
       "AL                Abbeville city                  69.1          29.1   \n",
       "AL               Adamsville city                  78.9          25.5   \n",
       "AL                  Addison town                  81.4          30.7   \n",
       "AL                    Akron town                  68.6          42.0   \n",
       "AL                Alabaster city                  89.3          11.2   \n",
       "\n",
       "                 People_city  \n",
       "Geographic Area               \n",
       "AL                      2560  \n",
       "AL                      4281  \n",
       "AL                       718  \n",
       "AL                       328  \n",
       "AL                     33487  "
      ]
     },
     "execution_count": 74,
     "metadata": {},
     "output_type": "execute_result"
    }
   ],
   "source": [
    "hs_pr = pd.merge(school, poverty) #con la funzione pd.merge unisco i due dataframe\n",
    "#nel caso ci fossero sostituisco i valori null con 0.0\n",
    "hs_pr.replace(['-'],0.0,inplace = True)\n",
    "hs_pr.replace(['(X)'],0.0,inplace = True)\n",
    "hs_pr[['percent_completed_hs','poverty_rate']] = hs_pr[['percent_completed_hs','poverty_rate']].astype(float) #converto le colonne nominate in float\n",
    "corr = pd.merge(hs_pr, peoplepercity2)#correlo i dataset di povertà e scuola a quello che è il dato della popolazione\n",
    "\n",
    "# elimino tutti i risultati duplicati\n",
    "corr_drop=corr.drop_duplicates(subset =['City']) #elimino tutti i duplicati creati con l'unione del dataset e li \"filtro\" per città\n",
    "corr_drop2= corr_drop.set_index('Geographic Area')\n",
    "corr_drop2.head()"
   ]
  },
  {
   "cell_type": "markdown",
   "metadata": {},
   "source": [
    "Con le funzioni eseguite fino a questo punto abbiamo ottenuto la media pesata del tasso di povertà e delle persone (in pecentuale) sopra i 25 anni che hanno terminato gli studi. Vedere la tabella qui sotto."
   ]
  },
  {
   "cell_type": "code",
   "execution_count": 294,
   "metadata": {},
   "outputs": [
    {
     "data": {
      "text/html": [
       "<div>\n",
       "<style scoped>\n",
       "    .dataframe tbody tr th:only-of-type {\n",
       "        vertical-align: middle;\n",
       "    }\n",
       "\n",
       "    .dataframe tbody tr th {\n",
       "        vertical-align: top;\n",
       "    }\n",
       "\n",
       "    .dataframe thead th {\n",
       "        text-align: right;\n",
       "    }\n",
       "</style>\n",
       "<table border=\"1\" class=\"dataframe\">\n",
       "  <thead>\n",
       "    <tr style=\"text-align: right;\">\n",
       "      <th></th>\n",
       "      <th>Geographic Area</th>\n",
       "      <th>poverty_average</th>\n",
       "      <th>school_average</th>\n",
       "    </tr>\n",
       "  </thead>\n",
       "  <tbody>\n",
       "    <tr>\n",
       "      <th>0</th>\n",
       "      <td>AK</td>\n",
       "      <td>10.602152</td>\n",
       "      <td>91.343038</td>\n",
       "    </tr>\n",
       "    <tr>\n",
       "      <th>1</th>\n",
       "      <td>AL</td>\n",
       "      <td>20.375017</td>\n",
       "      <td>85.974284</td>\n",
       "    </tr>\n",
       "    <tr>\n",
       "      <th>2</th>\n",
       "      <td>AR</td>\n",
       "      <td>21.228913</td>\n",
       "      <td>85.172651</td>\n",
       "    </tr>\n",
       "    <tr>\n",
       "      <th>3</th>\n",
       "      <td>AZ</td>\n",
       "      <td>18.380220</td>\n",
       "      <td>85.737087</td>\n",
       "    </tr>\n",
       "    <tr>\n",
       "      <th>4</th>\n",
       "      <td>CA</td>\n",
       "      <td>16.315685</td>\n",
       "      <td>81.218243</td>\n",
       "    </tr>\n",
       "  </tbody>\n",
       "</table>\n",
       "</div>"
      ],
      "text/plain": [
       "  Geographic Area  poverty_average  school_average\n",
       "0              AK        10.602152       91.343038\n",
       "1              AL        20.375017       85.974284\n",
       "2              AR        21.228913       85.172651\n",
       "3              AZ        18.380220       85.737087\n",
       "4              CA        16.315685       81.218243"
      ]
     },
     "execution_count": 294,
     "metadata": {},
     "output_type": "execute_result"
    }
   ],
   "source": [
    "#calcolo la media ponderata delle due colonne così da ottenere un dataset con la media dei tassi in base allo stato\n",
    "poverty_average = corr_drop2.groupby('Geographic Area').apply(lambda x: np.average(x.poverty_rate, weights= x.People_city))\n",
    "school_average = corr_drop2.groupby('Geographic Area').apply(lambda x: np.average(x.percent_completed_hs, weights= x.People_city))\n",
    "average = pd.DataFrame({'poverty_average': poverty_average, 'school_average': school_average })\n",
    "average.reset_index(inplace=True)\n",
    "average.head()"
   ]
  },
  {
   "cell_type": "code",
   "execution_count": 221,
   "metadata": {},
   "outputs": [
    {
     "data": {
      "text/html": [
       "<div>\n",
       "<style scoped>\n",
       "    .dataframe tbody tr th:only-of-type {\n",
       "        vertical-align: middle;\n",
       "    }\n",
       "\n",
       "    .dataframe tbody tr th {\n",
       "        vertical-align: top;\n",
       "    }\n",
       "\n",
       "    .dataframe thead th {\n",
       "        text-align: right;\n",
       "    }\n",
       "</style>\n",
       "<table border=\"1\" class=\"dataframe\">\n",
       "  <thead>\n",
       "    <tr style=\"text-align: right;\">\n",
       "      <th></th>\n",
       "      <th>Geographic Area</th>\n",
       "      <th>Tot_kills</th>\n",
       "    </tr>\n",
       "  </thead>\n",
       "  <tbody>\n",
       "    <tr>\n",
       "      <th>0</th>\n",
       "      <td>CA</td>\n",
       "      <td>832</td>\n",
       "    </tr>\n",
       "    <tr>\n",
       "      <th>1</th>\n",
       "      <td>TX</td>\n",
       "      <td>499</td>\n",
       "    </tr>\n",
       "    <tr>\n",
       "      <th>2</th>\n",
       "      <td>FL</td>\n",
       "      <td>372</td>\n",
       "    </tr>\n",
       "    <tr>\n",
       "      <th>3</th>\n",
       "      <td>AZ</td>\n",
       "      <td>260</td>\n",
       "    </tr>\n",
       "    <tr>\n",
       "      <th>4</th>\n",
       "      <td>CO</td>\n",
       "      <td>205</td>\n",
       "    </tr>\n",
       "  </tbody>\n",
       "</table>\n",
       "</div>"
      ],
      "text/plain": [
       "  Geographic Area  Tot_kills\n",
       "0              CA        832\n",
       "1              TX        499\n",
       "2              FL        372\n",
       "3              AZ        260\n",
       "4              CO        205"
      ]
     },
     "execution_count": 221,
     "metadata": {},
     "output_type": "execute_result"
    }
   ],
   "source": [
    "#per fare una giusta correlazione estrapolo il numero delle vittime per stato dal dataset principale\n",
    "killperstate= pd.DataFrame(kill.state.value_counts())\n",
    "killperstate.reset_index(inplace=True)\n",
    "killperstate.columns=['Geographic Area','Tot_kills']\n",
    "\n",
    "\n",
    "killperstate.head()"
   ]
  },
  {
   "cell_type": "code",
   "execution_count": 244,
   "metadata": {},
   "outputs": [
    {
     "data": {
      "text/html": [
       "<div>\n",
       "<style scoped>\n",
       "    .dataframe tbody tr th:only-of-type {\n",
       "        vertical-align: middle;\n",
       "    }\n",
       "\n",
       "    .dataframe tbody tr th {\n",
       "        vertical-align: top;\n",
       "    }\n",
       "\n",
       "    .dataframe thead th {\n",
       "        text-align: right;\n",
       "    }\n",
       "</style>\n",
       "<table border=\"1\" class=\"dataframe\">\n",
       "  <thead>\n",
       "    <tr style=\"text-align: right;\">\n",
       "      <th></th>\n",
       "      <th>poverty_average</th>\n",
       "      <th>school_average</th>\n",
       "      <th>Tot_kills</th>\n",
       "    </tr>\n",
       "    <tr>\n",
       "      <th>Geographic Area</th>\n",
       "      <th></th>\n",
       "      <th></th>\n",
       "      <th></th>\n",
       "    </tr>\n",
       "  </thead>\n",
       "  <tbody>\n",
       "    <tr>\n",
       "      <th>AK</th>\n",
       "      <td>10.602152</td>\n",
       "      <td>91.343038</td>\n",
       "      <td>40</td>\n",
       "    </tr>\n",
       "    <tr>\n",
       "      <th>AL</th>\n",
       "      <td>20.375017</td>\n",
       "      <td>85.974284</td>\n",
       "      <td>104</td>\n",
       "    </tr>\n",
       "    <tr>\n",
       "      <th>AR</th>\n",
       "      <td>21.228913</td>\n",
       "      <td>85.172651</td>\n",
       "      <td>84</td>\n",
       "    </tr>\n",
       "    <tr>\n",
       "      <th>AZ</th>\n",
       "      <td>18.380220</td>\n",
       "      <td>85.737087</td>\n",
       "      <td>260</td>\n",
       "    </tr>\n",
       "    <tr>\n",
       "      <th>CA</th>\n",
       "      <td>16.315685</td>\n",
       "      <td>81.218243</td>\n",
       "      <td>832</td>\n",
       "    </tr>\n",
       "  </tbody>\n",
       "</table>\n",
       "</div>"
      ],
      "text/plain": [
       "                 poverty_average  school_average  Tot_kills\n",
       "Geographic Area                                            \n",
       "AK                     10.602152       91.343038         40\n",
       "AL                     20.375017       85.974284        104\n",
       "AR                     21.228913       85.172651         84\n",
       "AZ                     18.380220       85.737087        260\n",
       "CA                     16.315685       81.218243        832"
      ]
     },
     "execution_count": 244,
     "metadata": {},
     "output_type": "execute_result"
    }
   ],
   "source": [
    "average_kills = pd.merge(average, killperstate) #unisco il dataset creato antecedentemente a quello delle vittime\n",
    "average_kills.set_index('Geographic Area', inplace=True)\n",
    "average_kills.head()"
   ]
  },
  {
   "cell_type": "markdown",
   "metadata": {},
   "source": [
    "Dopo aver preso in considerazione anche il numero di vittime per stato, incominciamo a vedere se c'è un bias di povertà. La polizia è più crudele negli stati più poveri? C'è una correlazione?"
   ]
  },
  {
   "cell_type": "code",
   "execution_count": 322,
   "metadata": {},
   "outputs": [
    {
     "data": {
      "text/plain": [
       "Text(0.5, 49.99999999999995, 'Number of kills')"
      ]
     },
     "execution_count": 322,
     "metadata": {},
     "output_type": "execute_result"
    },
    {
     "data": {
      "text/plain": [
       "<Figure size 1080x1080 with 0 Axes>"
      ]
     },
     "metadata": {},
     "output_type": "display_data"
    },
    {
     "data": {
      "image/png": "[encoded data removed]",
      "text/plain": [
       "<Figure size 432x432 with 3 Axes>"
      ]
     },
     "metadata": {
      "needs_background": "light"
     },
     "output_type": "display_data"
    }
   ],
   "source": [
    "plt.figure(figsize=(15,15))\n",
    "\n",
    "sns.jointplot(x= average_kills.Tot_kills,y=poverty_average,  data=average_kills, kind=\"kde\")\n",
    "plt.ylabel('Poverty rate')\n",
    "plt.xlabel('Number of kills')"
   ]
  },
  {
   "cell_type": "markdown",
   "metadata": {},
   "source": [
    "C'è quindi un bias di povertà confrontando il numero di vittime al tasso di povertà? \n",
    "\n",
    "NO!\n",
    "Il bias di povertà non c'è. Se ci fosse un bias di povertà nel grafico vedremmo il livello più scuro più in alto e più a destra. Per questo non significa che se la polizia vede un uomo o donna di qualunque razza in 'brutte condizioni', sia (nella maggior parte dei casi) più che pronta a sparare."
   ]
  },
  {
   "cell_type": "markdown",
   "metadata": {},
   "source": [
    "Confrontiamo il numero di vittime anche con il tasso di diplomati sopra i 25 anni. Un minor numero di persone diplomate è più soggetto a essere ucciso dalla polizia?"
   ]
  },
  {
   "cell_type": "code",
   "execution_count": 325,
   "metadata": {},
   "outputs": [
    {
     "data": {
      "text/plain": [
       "Text(0.5, 49.99999999999995, 'Number of kills')"
      ]
     },
     "execution_count": 325,
     "metadata": {},
     "output_type": "execute_result"
    },
    {
     "data": {
      "text/plain": [
       "<Figure size 1080x1080 with 0 Axes>"
      ]
     },
     "metadata": {},
     "output_type": "display_data"
    },
    {
     "data": {
      "image/png": "[encoded data removed]",
      "text/plain": [
       "<Figure size 432x432 with 3 Axes>"
      ]
     },
     "metadata": {
      "needs_background": "light"
     },
     "output_type": "display_data"
    }
   ],
   "source": [
    "plt.figure(figsize=(15,15))\n",
    "\n",
    "sns.jointplot(x= average_kills.Tot_kills,y=school_average,  data=average_kills, kind=\"kde\")\n",
    "plt.ylabel('Percentage of people over 25 w/ graduate')\n",
    "plt.xlabel('Number of kills')"
   ]
  },
  {
   "cell_type": "markdown",
   "metadata": {},
   "source": [
    "Qui abbiamo un secondo grafico, simile a quello precedente ma che ci mostra non il tasso di povertà ma il tasso di persone sopra i 25 anni che hanno completato la scuola e preso il diploma. \n",
    "\n",
    "Il tasso è davvero alto e abbiamo due punti scuri che vengono manifestati dalla correlazione. I due punti sono concordanti, ovvero maggiore è il numero di persone che hanno finito gli studi e minore sono le vittime, come si può osservane nel punto più in alto. Mentre come possiamo vedere dal punto più basso, minore è il numero di persone che hanno finito gli studi e maggiore sono le vittime, possiamo accorgecene anche dal livello dell'estensione di questo secondo punto scuro."
   ]
  },
  {
   "cell_type": "markdown",
   "metadata": {},
   "source": [
    "## Conclusione"
   ]
  },
  {
   "cell_type": "markdown",
   "metadata": {},
   "source": [
    "Che conclusione si può trarre da questa analisi?\n",
    "\n",
    "Secondo il mio punto di vista in base a quello che ho analizzato, il razzismo è presente nelle forze dell'ordine anche a causa dei bias che ci sono e si manifestano. Possiamo prendere casi come nell'esempio della body camera e delle persone non armate, ma uccise lo stesso anche quando con il soggetto che ha causato il \"crimine\" ci si poteva ragionare.\n",
    "\n",
    "Ovviamente non si può fare di tutta l'erba un fascio e per questo non potremmo condannare tutta la police degli States."
   ]
  }
 ],
 "metadata": {
  "kernelspec": {
   "display_name": "Python 3",
   "language": "python",
   "name": "python3"
  },
  "language_info": {
   "codemirror_mode": {
    "name": "ipython",
    "version": 3
   },
   "file_extension": ".py",
   "mimetype": "text/x-python",
   "name": "python",
   "nbconvert_exporter": "python",
   "pygments_lexer": "ipython3",
   "version": "3.7.6"
  }
 },
 "nbformat": 4,
 "nbformat_minor": 4
}
